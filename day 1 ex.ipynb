{
 "cells": [
  {
   "cell_type": "markdown",
   "metadata": {},
   "source": [
    "# Exercises\n",
    "\n",
    "  1. Use the `range()` function to make a list of the odd numbers from 1 to 20. **Hint** in ipython and this notebooks you can see a functions help text by executing for example `range?`\n",
    "  2. Create a list with the even number values from two to one million. Use `min(list)` and `max(list)` to make sure your list actually starts at two and ends at one million. Also, use the `sum(list)` function to compute the sum of all values.\n",
    "  3. Create a list of the multiples of 3 - going from 3 to 300. **HINT: USE A LIST COMPREHENSION**\n",
    "  4. A number raised to the third power is called a cube. For example, the cube of 2 is written as `2**3` in Python. Create a list of the first 10 cubes (that is, the cube of each integer from 1 through 10)."
   ]
  },
  {
   "cell_type": "code",
   "execution_count": 75,
   "metadata": {},
   "outputs": [
    {
     "data": {
      "text/plain": [
       "[1, 3, 5, 7, 9, 11, 13, 15, 17, 19]"
      ]
     },
     "execution_count": 75,
     "metadata": {},
     "output_type": "execute_result"
    }
   ],
   "source": [
    "rangeList = [n for n in range(21) if n % 2 != 0]\n",
    "rangeList"
   ]
  },
  {
   "cell_type": "code",
   "execution_count": 43,
   "metadata": {},
   "outputs": [
    {
     "name": "stdout",
     "output_type": "stream",
     "text": [
      "True\n"
     ]
    },
    {
     "data": {
      "text/plain": [
       "250000500000"
      ]
     },
     "execution_count": 43,
     "metadata": {},
     "output_type": "execute_result"
    }
   ],
   "source": [
    "evenMill = [n for n in range(1000001) if n != 0 and n % 2 == 0]\n",
    "print(min(evenMill) == 2 and max(evenMill) == 1000000)\n",
    "sum(evenMill)"
   ]
  },
  {
   "cell_type": "code",
   "execution_count": 39,
   "metadata": {},
   "outputs": [
    {
     "data": {
      "text/plain": [
       "[3,\n",
       " 6,\n",
       " 9,\n",
       " 12,\n",
       " 15,\n",
       " 18,\n",
       " 21,\n",
       " 24,\n",
       " 27,\n",
       " 30,\n",
       " 33,\n",
       " 36,\n",
       " 39,\n",
       " 42,\n",
       " 45,\n",
       " 48,\n",
       " 51,\n",
       " 54,\n",
       " 57,\n",
       " 60,\n",
       " 63,\n",
       " 66,\n",
       " 69,\n",
       " 72,\n",
       " 75,\n",
       " 78,\n",
       " 81,\n",
       " 84,\n",
       " 87,\n",
       " 90,\n",
       " 93,\n",
       " 96,\n",
       " 99,\n",
       " 102,\n",
       " 105,\n",
       " 108,\n",
       " 111,\n",
       " 114,\n",
       " 117,\n",
       " 120,\n",
       " 123,\n",
       " 126,\n",
       " 129,\n",
       " 132,\n",
       " 135,\n",
       " 138,\n",
       " 141,\n",
       " 144,\n",
       " 147,\n",
       " 150,\n",
       " 153,\n",
       " 156,\n",
       " 159,\n",
       " 162,\n",
       " 165,\n",
       " 168,\n",
       " 171,\n",
       " 174,\n",
       " 177,\n",
       " 180,\n",
       " 183,\n",
       " 186,\n",
       " 189,\n",
       " 192,\n",
       " 195,\n",
       " 198,\n",
       " 201,\n",
       " 204,\n",
       " 207,\n",
       " 210,\n",
       " 213,\n",
       " 216,\n",
       " 219,\n",
       " 222,\n",
       " 225,\n",
       " 228,\n",
       " 231,\n",
       " 234,\n",
       " 237,\n",
       " 240,\n",
       " 243,\n",
       " 246,\n",
       " 249,\n",
       " 252,\n",
       " 255,\n",
       " 258,\n",
       " 261,\n",
       " 264,\n",
       " 267,\n",
       " 270,\n",
       " 273,\n",
       " 276,\n",
       " 279,\n",
       " 282,\n",
       " 285,\n",
       " 288,\n",
       " 291,\n",
       " 294,\n",
       " 297,\n",
       " 300]"
      ]
     },
     "execution_count": 39,
     "metadata": {},
     "output_type": "execute_result"
    }
   ],
   "source": [
    "evenThrees = [n for n in range(301) if n != 0 and n % 3 == 0]\n",
    "evenThrees"
   ]
  },
  {
   "cell_type": "code",
   "execution_count": 49,
   "metadata": {
    "scrolled": true
   },
   "outputs": [
    {
     "data": {
      "text/plain": [
       "[1, 8, 27, 64, 125, 216, 343, 512, 729, 1000]"
      ]
     },
     "execution_count": 49,
     "metadata": {},
     "output_type": "execute_result"
    }
   ],
   "source": [
    "power = [n**3 for n in range(11) if n != 0]\n",
    "power"
   ]
  },
  {
   "cell_type": "markdown",
   "metadata": {},
   "source": [
    "1. Create 5 list comprehensions to solve the following 5 problems:\n",
    "  1. Iterate a list of names to return a list of the names starting with H\n",
    "  2. In one line create a list of the numbers 1-100 to the power of 3\n",
    "  3. Iterate a list of names to create a list of tuples where the tuples first value is the length of the name and the second is the name\n",
    "  4. Iterate over each character in a string and get only those that are nummeric\n",
    "  5. Using only a list comprehension wrapped in set() get all possible combination from throwing 2 dice (hint use 2 for loops in a single list comprehension)\n",
    "\n",
    "2. Create 2 dictionary comprehensions to solve the following:\n",
    "  1. Iterate a list of names and create a dictionary where key is the name and value is the length of the name\n",
    "  2. Iterate a list of numbers and create a dictionary with {key:value} being {number:squareroot_of_number}\n",
    "\n",
    "3. Extra assignment (This one goes beyond what is covered in the course notebooks. So only do it if you want an extra challenge).\n",
    "  - Progammatically using loops create a small program to produce a dictionary with all the 2 dice throw combinations as keys (eg: 2,3,4...etc) and their likelyhood in percent as values"
   ]
  },
  {
   "cell_type": "code",
   "execution_count": 53,
   "metadata": {},
   "outputs": [
    {
     "data": {
      "text/plain": [
       "['Heimlich', 'Hagrid']"
      ]
     },
     "execution_count": 53,
     "metadata": {},
     "output_type": "execute_result"
    }
   ],
   "source": [
    "names = [\"Johan\", \"Kasper\", \"August\", \"Søren\", \"Heimlich\", \"Hagrid\"]\n",
    "[n for n in names if n.startswith(\"H\")]\n"
   ]
  },
  {
   "cell_type": "code",
   "execution_count": 56,
   "metadata": {},
   "outputs": [
    {
     "data": {
      "text/plain": [
       "[1,\n",
       " 8,\n",
       " 27,\n",
       " 64,\n",
       " 125,\n",
       " 216,\n",
       " 343,\n",
       " 512,\n",
       " 729,\n",
       " 1000,\n",
       " 1331,\n",
       " 1728,\n",
       " 2197,\n",
       " 2744,\n",
       " 3375,\n",
       " 4096,\n",
       " 4913,\n",
       " 5832,\n",
       " 6859,\n",
       " 8000,\n",
       " 9261,\n",
       " 10648,\n",
       " 12167,\n",
       " 13824,\n",
       " 15625,\n",
       " 17576,\n",
       " 19683,\n",
       " 21952,\n",
       " 24389,\n",
       " 27000,\n",
       " 29791,\n",
       " 32768,\n",
       " 35937,\n",
       " 39304,\n",
       " 42875,\n",
       " 46656,\n",
       " 50653,\n",
       " 54872,\n",
       " 59319,\n",
       " 64000,\n",
       " 68921,\n",
       " 74088,\n",
       " 79507,\n",
       " 85184,\n",
       " 91125,\n",
       " 97336,\n",
       " 103823,\n",
       " 110592,\n",
       " 117649,\n",
       " 125000,\n",
       " 132651,\n",
       " 140608,\n",
       " 148877,\n",
       " 157464,\n",
       " 166375,\n",
       " 175616,\n",
       " 185193,\n",
       " 195112,\n",
       " 205379,\n",
       " 216000,\n",
       " 226981,\n",
       " 238328,\n",
       " 250047,\n",
       " 262144,\n",
       " 274625,\n",
       " 287496,\n",
       " 300763,\n",
       " 314432,\n",
       " 328509,\n",
       " 343000,\n",
       " 357911,\n",
       " 373248,\n",
       " 389017,\n",
       " 405224,\n",
       " 421875,\n",
       " 438976,\n",
       " 456533,\n",
       " 474552,\n",
       " 493039,\n",
       " 512000,\n",
       " 531441,\n",
       " 551368,\n",
       " 571787,\n",
       " 592704,\n",
       " 614125,\n",
       " 636056,\n",
       " 658503,\n",
       " 681472,\n",
       " 704969,\n",
       " 729000,\n",
       " 753571,\n",
       " 778688,\n",
       " 804357,\n",
       " 830584,\n",
       " 857375,\n",
       " 884736,\n",
       " 912673,\n",
       " 941192,\n",
       " 970299,\n",
       " 1000000]"
      ]
     },
     "execution_count": 56,
     "metadata": {},
     "output_type": "execute_result"
    }
   ],
   "source": [
    "[n**3 for n in range(101) if n != 0]"
   ]
  },
  {
   "cell_type": "code",
   "execution_count": 60,
   "metadata": {},
   "outputs": [
    {
     "data": {
      "text/plain": [
       "[(5, 'Johan'),\n",
       " (6, 'Kasper'),\n",
       " (6, 'August'),\n",
       " (5, 'Søren'),\n",
       " (8, 'Heimlich'),\n",
       " (6, 'Hagrid')]"
      ]
     },
     "execution_count": 60,
     "metadata": {},
     "output_type": "execute_result"
    }
   ],
   "source": [
    "names = [\"Johan\", \"Kasper\", \"August\", \"Søren\", \"Heimlich\", \"Hagrid\"]\n",
    "[(len(n), n) for n in names]"
   ]
  },
  {
   "cell_type": "code",
   "execution_count": 68,
   "metadata": {},
   "outputs": [
    {
     "data": {
      "text/plain": [
       "['4', '4', '4', '3', '5', '9', '0']"
      ]
     },
     "execution_count": 68,
     "metadata": {},
     "output_type": "execute_result"
    }
   ],
   "source": [
    "s = \"kgfpdk444g3gh59h0hg\"\n",
    "[c for c in s if c.isnumeric()]\n"
   ]
  },
  {
   "cell_type": "code",
   "execution_count": 74,
   "metadata": {},
   "outputs": [
    {
     "data": {
      "text/plain": [
       "{(1, 1),\n",
       " (1, 2),\n",
       " (1, 3),\n",
       " (1, 4),\n",
       " (1, 5),\n",
       " (1, 6),\n",
       " (2, 1),\n",
       " (2, 2),\n",
       " (2, 3),\n",
       " (2, 4),\n",
       " (2, 5),\n",
       " (2, 6),\n",
       " (3, 1),\n",
       " (3, 2),\n",
       " (3, 3),\n",
       " (3, 4),\n",
       " (3, 5),\n",
       " (3, 6),\n",
       " (4, 1),\n",
       " (4, 2),\n",
       " (4, 3),\n",
       " (4, 4),\n",
       " (4, 5),\n",
       " (4, 6),\n",
       " (5, 1),\n",
       " (5, 2),\n",
       " (5, 3),\n",
       " (5, 4),\n",
       " (5, 5),\n",
       " (5, 6),\n",
       " (6, 1),\n",
       " (6, 2),\n",
       " (6, 3),\n",
       " (6, 4),\n",
       " (6, 5),\n",
       " (6, 6)}"
      ]
     },
     "execution_count": 74,
     "metadata": {},
     "output_type": "execute_result"
    }
   ],
   "source": [
    "set([(a, b) for a in range(1,7) for b in range(1,7) ])"
   ]
  }
 ],
 "metadata": {
  "kernelspec": {
   "display_name": "Python 3",
   "language": "python",
   "name": "python3"
  },
  "language_info": {
   "codemirror_mode": {
    "name": "ipython",
    "version": 3
   },
   "file_extension": ".py",
   "mimetype": "text/x-python",
   "name": "python",
   "nbconvert_exporter": "python",
   "pygments_lexer": "ipython3",
   "version": "3.7.6"
  }
 },
 "nbformat": 4,
 "nbformat_minor": 4
}
